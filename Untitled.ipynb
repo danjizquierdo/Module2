{
 "cells": [
  {
   "cell_type": "code",
   "execution_count": 81,
   "metadata": {},
   "outputs": [],
   "source": [
    "import requests, json\n",
    "import json\n",
    "import sqlite3 "
   ]
  },
  {
   "cell_type": "code",
   "execution_count": 92,
   "metadata": {},
   "outputs": [],
   "source": [
    "api_key='K8LmDhBpijHbIRP2fgSPm9KEMMxTMkk939bkHwAs'"
   ]
  },
  {
   "cell_type": "code",
   "execution_count": 111,
   "metadata": {},
   "outputs": [],
   "source": [
    "url = 'https://api.data.gov/ed/collegescorecard/v1/schools.json?'\n",
    "headers = '&api_key='+api_key\n",
    "url_params = 'school.degrees_awarded.predominant=2,3&_fields=id,school.name,latest.student.size&_per_page=100'            "
   ]
  },
  {
   "cell_type": "code",
   "execution_count": 112,
   "metadata": {},
   "outputs": [],
   "source": [
    "response = requests.get(url+url_params+headers)"
   ]
  },
  {
   "cell_type": "code",
   "execution_count": 126,
   "metadata": {},
   "outputs": [],
   "source": [
    "connection = sqlite3.connect('scorecard.db')\n",
    "cursor=connection.cursor()"
   ]
  },
  {
   "cell_type": "code",
   "execution_count": 132,
   "metadata": {},
   "outputs": [
    {
     "data": {
      "text/plain": [
       "<sqlite3.Cursor at 0x1195f1420>"
      ]
     },
     "execution_count": 132,
     "metadata": {},
     "output_type": "execute_result"
    }
   ],
   "source": [
    "cursor.execute('''\n",
    "        CREATE TABLE fouryear (\n",
    "            id INTEGER PRIMARY KEY,\n",
    "            name TEXT,\n",
    "            size INTEGER,\n",
    "            part_time_share REAL,\n",
    "            cost REAL,\n",
    "            pell_grant_rate REAL,\n",
    "            federal_loan_rate REAL,\n",
    "            completion_rate_4yr_150nt REAL,\n",
    "            retention_rate_full_time REAL,\n",
    "            retention_rate_part_time REAL,\n",
    "            share_25_older REAL,\n",
    "            two_yr_default_rate REAL,\n",
    "            three_yr_default_rate REAL,\n",
    "            share_firstgeneration REAL,\n",
    "            parents_middleschool REAL,\n",
    "            parents_highschool REAL,\n",
    "            parents_somecollege REAL,\n",
    "            median_hh_income REAL\n",
    "        )''')"
   ]
  },
  {
   "cell_type": "code",
   "execution_count": 133,
   "metadata": {},
   "outputs": [
    {
     "data": {
      "text/plain": [
       "<sqlite3.Cursor at 0x1195f1420>"
      ]
     },
     "execution_count": 133,
     "metadata": {},
     "output_type": "execute_result"
    }
   ],
   "source": [
    "cursor.execute('''\n",
    "        CREATE TABLE twoyear (\n",
    "            id INTEGER PRIMARY KEY,\n",
    "            name TEXT,\n",
    "            size INTEGER,\n",
    "            part_time_share REAL,\n",
    "            cost REAL,\n",
    "            pell_grant_rate REAL,\n",
    "            federal_loan_rate REAL,\n",
    "            completion_rate__less_than_4yr_150nt REAL,\n",
    "            retention_rate_full_time REAL,\n",
    "            retention_rate_part_time REAL,\n",
    "            share_25_older REAL,\n",
    "            two_yr_default_rate REAL,\n",
    "            three_yr_default_rate REAL,\n",
    "            share_firstgeneration REAL,\n",
    "            parents_middleschool REAL,\n",
    "            parents_highschool REAL,\n",
    "            parents_somecollege REAL,\n",
    "            median_hh_income REAL\n",
    "        )''')"
   ]
  },
  {
   "cell_type": "code",
   "execution_count": 188,
   "metadata": {},
   "outputs": [],
   "source": [
    "import sys"
   ]
  },
  {
   "cell_type": "code",
   "execution_count": 203,
   "metadata": {},
   "outputs": [],
   "source": [
    "def update_table(*arg):\n",
    "\n",
    "    if arg[0]=='twoyear':\n",
    "        completion='completion_rate__less_than_4yr_150nt'\n",
    "    else:\n",
    "        completion='completion_rate_4yr_150nt'\n",
    "    args = [args if (args != None) else -999 for args in arg ]\n",
    "    for arg in args[3:]:\n",
    "        if isinstance(arg,str):\n",
    "            args[args.index(arg)]=-999\n",
    "    if args[2]==-999:\n",
    "        args[2]='Missing'\n",
    "    try:\n",
    "        cursor.execute(f'''\n",
    "            INSERT INTO {args[0]} \n",
    "            (id, name, size, part_time_share, cost, pell_grant_rate,\n",
    "            federal_loan_rate,{completion},retention_rate_full_time,\n",
    "            retention_rate_part_time,share_25_older,two_yr_default_rate,\n",
    "            three_yr_default_rate,share_firstgeneration,parents_middleschool,\n",
    "            parents_highschool,parents_somecollege,median_hh_income)\n",
    "            VALUES\n",
    "            ({args[1]},'{args[2]}',{args[3]},{args[4]},{args[5]},{args[6]},\n",
    "            {args[7]},{args[8]},{args[9]},\n",
    "            {args[10]},{args[11]},{args[12]},\n",
    "            {args[13]},{args[14]},{args[15]},\n",
    "            {args[16]},{args[17]},{args[18]})\n",
    "            ''')\n",
    "    except sqlite3.IntegrityError:\n",
    "        pass\n",
    "    except sqlite3.OperationalError:\n",
    "        print(arg)"
   ]
  },
  {
   "cell_type": "code",
   "execution_count": 113,
   "metadata": {
    "scrolled": true
   },
   "outputs": [
    {
     "data": {
      "text/plain": [
       "'{\"metadata\":{\"total\":3403,\"page\":0,\"per_page\":100},\"results\":[{\"school.name\":\"American National University-Youngstown\",\"latest.student.size\":102,\"id\":453464},{\"school.name\":\"Norco College\",\"latest.student.size\":8231,\"id\":460464},{\"school.name\":\"Golf Academy of America-Dallas\",\"latest.student.size\":89,\"id\":476337},{\"school.name\":\"Bryant & Stratton College-Online\",\"latest.student.size\":3394,\"id\":480091},{\"school.name\":\"Platt College-Riverside\",\"latest.student.size\":462,\"id\":480204},{\"school.name\":\"National American University-Mesquite\",\"latest.student.size\":115,\"id\":478014},{\"school.name\":\"Yeshivas Maharit D\\'Satmar\",\"latest.student.size\":89,\"id\":488101},{\"school.name\":\"Clovis Community College\",\"latest.student.size\":5581,\"id\":489201},{\"school.name\":\"Med-Life Institute-Naples\",\"latest.student.size\":55,\"id\":487834},{\"school.name\":\"McCann School of Business & Technology\",\"latest.student.size\":182,\"id\":482927},{\"school.name\":\"Valor Christian College\",\"latest.student.size\":262,\"id\":486257},{\"school.name\":\"Unilatina International College\",\"latest.student.size\":33,\"id\":486354},{\"school.name\":\"American National University-Stow\",\"latest.student.size\":24,\"id\":487357},{\"school.name\":\"Wave Leadership College\",\"latest.student.size\":61,\"id\":486594},{\"school.name\":\"Sunstate Academy-Jones Technical Institute\",\"latest.student.size\":313,\"id\":487311},{\"school.name\":\"Shepherd University\",\"latest.student.size\":189,\"id\":487667},{\"school.name\":\"Georgia Military College\",\"latest.student.size\":6519,\"id\":485111},{\"school.name\":\"National American University-Houston\",\"latest.student.size\":74,\"id\":485281},{\"school.name\":\"Dewey University-Mayaguez\",\"latest.student.size\":214,\"id\":485421},{\"school.name\":\"College of the Muscogee Nation\",\"latest.student.size\":197,\"id\":480967},{\"school.name\":\"Rasmussen College-Kansas\",\"latest.student.size\":310,\"id\":480657},{\"school.name\":\"National American University-Austin South\",\"latest.student.size\":79,\"id\":482307},{\"school.name\":\"National American University-Richardson\",\"latest.student.size\":141,\"id\":482334},{\"school.name\":\"Tribeca Flashpoint College\",\"latest.student.size\":270,\"id\":460747},{\"school.name\":\"Miller-Motte Technical College-Roanoke\",\"latest.student.size\":256,\"id\":475194},{\"school.name\":\"Brown Mackie College-Dallas\",\"latest.student.size\":276,\"id\":482954},{\"school.name\":\"California College San Diego\",\"latest.student.size\":368,\"id\":478634},{\"school.name\":\"American National University-Columbus\",\"latest.student.size\":6,\"id\":457004},{\"school.name\":\"Brown Mackie College-Greenville\",\"latest.student.size\":285,\"id\":456791},{\"school.name\":\"Vatterott College-Appling Farms\",\"latest.student.size\":300,\"id\":455567},{\"school.name\":\"Miller-Motte Technical College-Columbus\",\"latest.student.size\":635,\"id\":458441},{\"school.name\":\"Broadview Entertainment Arts University\",\"latest.student.size\":130,\"id\":459091},{\"school.name\":\"Bryant & Stratton College-Hampton\",\"latest.student.size\":337,\"id\":459107},{\"school.name\":\"Compass College of Cinematic Arts\",\"latest.student.size\":132,\"id\":459417},{\"school.name\":\"National American University-Centennial\",\"latest.student.size\":151,\"id\":466161},{\"school.name\":\"Moreno Valley College\",\"latest.student.size\":7610,\"id\":460394},{\"school.name\":\"Mildred Elley-New York Campus\",\"latest.student.size\":1077,\"id\":461014},{\"school.name\":\"Minneapolis Media Institute\",\"latest.student.size\":85,\"id\":474881},{\"school.name\":\"Sanford-Brown College-Brooklyn Center\",\"latest.student.size\":31,\"id\":475291},{\"school.name\":\"College of Western Idaho\",\"latest.student.size\":6519,\"id\":455114},{\"school.name\":\"City College-Hollywood\",\"latest.student.size\":235,\"id\":475477},{\"school.name\":\"Rasmussen College-Wisconsin\",\"latest.student.size\":806,\"id\":450571},{\"school.name\":\"Taylor College\",\"latest.student.size\":169,\"id\":449524},{\"school.name\":\"Nightingale College\",\"latest.student.size\":246,\"id\":444787},{\"school.name\":\"River Parishes Community College\",\"latest.student.size\":1378,\"id\":436304},{\"school.name\":\"Tohono O\\'Odham Community College\",\"latest.student.size\":262,\"id\":442781},{\"school.name\":\"Triangle Tech Inc-Sunbury\",\"latest.student.size\":96,\"id\":443377},{\"school.name\":\"University of South Carolina-Salkehatchie\",\"latest.student.size\":990,\"id\":218681},{\"school.name\":\"Sinte Gleska University\",\"latest.student.size\":505,\"id\":219374},{\"school.name\":\"Roane State Community College\",\"latest.student.size\":4388,\"id\":221397},{\"school.name\":\"Brookhaven College\",\"latest.student.size\":10886,\"id\":223524},{\"school.name\":\"Blinn College\",\"latest.student.size\":16850,\"id\":223427},{\"school.name\":\"Dixie State University\",\"latest.student.size\":7432,\"id\":230171},{\"school.name\":\"New England Culinary Institute\",\"latest.student.size\":300,\"id\":230977},{\"school.name\":\"Pierce College-Fort Steilacoom\",\"latest.student.size\":4879,\"id\":235237},{\"school.name\":\"Highline College\",\"latest.student.size\":4839,\"id\":235431},{\"school.name\":\"Miller-Motte Technical College-Lynchburg\",\"latest.student.size\":340,\"id\":233091},{\"school.name\":\"Southern West Virginia Community and Technical College\",\"latest.student.size\":1608,\"id\":237817},{\"school.name\":\"Huntington Junior College\",\"latest.student.size\":453,\"id\":237437},{\"school.name\":\"West Virginia Junior College-Charleston\",\"latest.student.size\":146,\"id\":237987},{\"school.name\":\"Kaplan University-Des Moines Campus\",\"latest.student.size\":688,\"id\":367024},{\"school.name\":\"CEM College-Humacao\",\"latest.student.size\":575,\"id\":376224},{\"school.name\":\"Northwest Indian College\",\"latest.student.size\":542,\"id\":380377},{\"school.name\":\"King\\'s College\",\"latest.student.size\":359,\"id\":382504},{\"school.name\":\"Everest University-South Orlando\",\"latest.student.size\":3520,\"id\":390701},{\"school.name\":\"Galen College of Nursing-Tampa Bay\",\"latest.student.size\":962,\"id\":406024},{\"school.name\":\"ASA College\",\"latest.student.size\":4455,\"id\":404994},{\"school.name\":\"Vatterott College-Joplin\",\"latest.student.size\":192,\"id\":404374},{\"school.name\":\"Wabash Valley College\",\"latest.student.size\":670,\"id\":403487},{\"school.name\":\"City College-Gainesville\",\"latest.student.size\":393,\"id\":406547},{\"school.name\":\"Florida National University-Main Campus\",\"latest.student.size\":2354,\"id\":408844},{\"school.name\":\"Southeast Missouri Hospital College of Nursing and Health Sciences\",\"latest.student.size\":207,\"id\":417734},{\"school.name\":\"City College-Altamonte Springs\",\"latest.student.size\":285,\"id\":417327},{\"school.name\":\"Centura College-Chesapeake\",\"latest.student.size\":203,\"id\":420024},{\"school.name\":\"Virginia College-Birmingham\",\"latest.student.size\":1915,\"id\":420307},{\"school.name\":\"McCann School of Business & Technology\",\"latest.student.size\":261,\"id\":438221},{\"school.name\":\"Le Cordon Bleu College of Culinary Arts-Minneapolis\",\"latest.student.size\":156,\"id\":446844},{\"school.name\":\"Stevens-Henager College\",\"latest.student.size\":82,\"id\":446677},{\"school.name\":\"Eastern International College-Belleville\",\"latest.student.size\":222,\"id\":448354},{\"school.name\":\"West Hills College-Lemoore\",\"latest.student.size\":3723,\"id\":448594},{\"school.name\":\"National American University-Wichita\",\"latest.student.size\":148,\"id\":451884},{\"school.name\":\"Le Cordon Bleu College of Culinary Arts-Cambridge\",\"latest.student.size\":126,\"id\":452054},{\"school.name\":\"Virginia University of Lynchburg\",\"latest.student.size\":342,\"id\":234137},{\"school.name\":\"Blue Ridge Community and Technical College\",\"latest.student.size\":2000,\"id\":446774},{\"school.name\":\"Saint Elizabeth College of Nursing\",\"latest.student.size\":196,\"id\":195702},{\"school.name\":\"White Earth Tribal and Community College\",\"latest.student.size\":69,\"id\":434751},{\"school.name\":\"Mid-Plains Community College\",\"latest.student.size\":1213,\"id\":181312},{\"school.name\":\"Dallas Institute of Funeral Service\",\"latest.student.size\":95,\"id\":224271},{\"school.name\":\"Vatterott College-Sunset Hills\",\"latest.student.size\":324,\"id\":436191},{\"school.name\":\"Antonelli College-Jackson\",\"latest.student.size\":301,\"id\":175528},{\"school.name\":\"Oakland Community College\",\"latest.student.size\":10135,\"id\":171535},{\"school.name\":\"Hibbing Community College\",\"latest.student.size\":1046,\"id\":173735},{\"school.name\":\"Itasca Community College\",\"latest.student.size\":894,\"id\":173805},{\"school.name\":\"Wayne County Community College District\",\"latest.student.size\":11747,\"id\":172635},{\"school.name\":\"Normandale Community College\",\"latest.student.size\":7382,\"id\":174428},{\"school.name\":\"Century College\",\"latest.student.size\":7818,\"id\":175315},{\"school.name\":\"Meridian Community College\",\"latest.student.size\":3297,\"id\":175935},{\"school.name\":\"Mississippi Delta Community College\",\"latest.student.size\":2006,\"id\":176008},{\"school.name\":\"Ozarks Technical Community College\",\"latest.student.size\":11202,\"id\":177472},{\"school.name\":\"Saint Louis Community College\",\"latest.student.size\":17125,\"id\":179308}]}'"
      ]
     },
     "execution_count": 113,
     "metadata": {},
     "output_type": "execute_result"
    }
   ],
   "source": [
    "response.text"
   ]
  },
  {
   "cell_type": "code",
   "execution_count": 212,
   "metadata": {},
   "outputs": [],
   "source": [
    "def get_scorecard_2yr():\n",
    "    url='https://api.data.gov/ed/collegescorecard/v1/schools.json?school.degrees_awarded.predominant=2'\n",
    "    headers = '&api_key='+api_key\n",
    "    url_params ='&_fields=id,school.name,latest.student.size,latest.student.part_time_share,latest.cost.tuition.in_state,latest.aid.pell_grant_rate,latest.aid.federal_loan_rate,latest.completion.completion_rate_less_than_4yr_150nt,latest.student.retention_rate.lt_four_year.full_time,latest.student.retention_rate.lt_four_year.part_time,latest.student.share_25_older,latest.repayment.2_yr_default_rate,latest.repayment.3_yr_default_rate,latest.student.share_firstgeneration,latest.student.share_firstgeneration_parents.middleschool,latest.student.share_firstgeneration_parents.highschool,latest.student.share_firstgeneration_parents.somecollege,latest.student.demographics.median_hh_income&_per_page=100'\n",
    "    url=url+url_params+headers\n",
    "    first_page = requests.get(url).json()\n",
    "    for result in first_page['results']:\n",
    "        update_table('twoyear',result['id'],result['school.name'],result['latest.student.size']\n",
    "                       ,result['latest.student.part_time_share'],result['latest.cost.tuition.in_state']\n",
    "                       ,result['latest.aid.pell_grant_rate'],result['latest.aid.federal_loan_rate'], result['latest.completion.completion_rate_less_than_4yr_150nt']\n",
    "                       ,result['latest.student.retention_rate.lt_four_year.full_time']\n",
    "                       ,result['latest.student.retention_rate.lt_four_year.part_time']\n",
    "                       ,result['latest.student.share_25_older']\n",
    "                       ,result['latest.repayment.2_yr_default_rate'], result['latest.repayment.3_yr_default_rate']\n",
    "                       ,result['latest.student.share_firstgeneration'], result['latest.student.share_firstgeneration_parents.middleschool']\n",
    "                       ,result['latest.student.share_firstgeneration_parents.highschool'], result['latest.student.share_firstgeneration_parents.somecollege']\n",
    "                       ,result['latest.student.demographics.median_hh_income'])\n",
    "    num_pages = first_page['metadata']['total']//100\n",
    "    \n",
    "    for page in range(1, num_pages + 1):\n",
    "        first_page = requests.get(url+f'&_page={page}').json()\n",
    "        for result in first_page['results']:\n",
    "            update_table('twoyear',result['id'],result['school.name'],result['latest.student.size']\n",
    "                       ,result['latest.student.part_time_share'],result['latest.cost.tuition.in_state']\n",
    "                       ,result['latest.aid.pell_grant_rate'],result['latest.aid.federal_loan_rate'], result['latest.completion.completion_rate_less_than_4yr_150nt']\n",
    "                       ,result['latest.student.retention_rate.lt_four_year.full_time']\n",
    "                       ,result['latest.student.retention_rate.lt_four_year.part_time']\n",
    "                       ,result['latest.student.share_25_older']\n",
    "                       ,result['latest.repayment.2_yr_default_rate'], result['latest.repayment.3_yr_default_rate']\n",
    "                       ,result['latest.student.share_firstgeneration'], result['latest.student.share_firstgeneration_parents.middleschool']\n",
    "                       ,result['latest.student.share_firstgeneration_parents.highschool'], result['latest.student.share_firstgeneration_parents.somecollege']\n",
    "                       ,result['latest.student.demographics.median_hh_income'])"
   ]
  },
  {
   "cell_type": "code",
   "execution_count": 213,
   "metadata": {
    "scrolled": true
   },
   "outputs": [
    {
     "name": "stdout",
     "output_type": "stream",
     "text": [
      "-999\n",
      "26755\n",
      "59448\n",
      "75504\n",
      "49609\n",
      "70910\n",
      "54778\n",
      "-999\n",
      "67923\n",
      "75932\n",
      "58567\n",
      "74067\n",
      "-999\n",
      "66530\n",
      "36313\n"
     ]
    }
   ],
   "source": [
    "get_scorecard_2yr()"
   ]
  },
  {
   "cell_type": "code",
   "execution_count": 216,
   "metadata": {},
   "outputs": [
    {
     "data": {
      "text/plain": [
       "[(399,)]"
      ]
     },
     "execution_count": 216,
     "metadata": {},
     "output_type": "execute_result"
    }
   ],
   "source": [
    "cursor.execute('''SELECT COUNT(*) FROM fouryear WHERE -999 in (size, part_time_share, cost, pell_grant_rate,\n",
    "            federal_loan_rate,share_25_older,two_yr_default_rate,\n",
    "            three_yr_default_rate,median_hh_income);''').fetchall()"
   ]
  },
  {
   "cell_type": "code",
   "execution_count": 215,
   "metadata": {},
   "outputs": [
    {
     "data": {
      "text/plain": [
       "[(336,)]"
      ]
     },
     "execution_count": 215,
     "metadata": {},
     "output_type": "execute_result"
    }
   ],
   "source": [
    "cursor.execute('''SELECT COUNT(*) FROM twoyear WHERE -999 in (size, part_time_share, cost, pell_grant_rate,\n",
    "            federal_loan_rate,share_25_older,two_yr_default_rate,\n",
    "            three_yr_default_rate,median_hh_income);''').fetchall()"
   ]
  },
  {
   "cell_type": "code",
   "execution_count": 240,
   "metadata": {
    "scrolled": true
   },
   "outputs": [
    {
     "data": {
      "text/plain": [
       "[(250,)]"
      ]
     },
     "execution_count": 240,
     "metadata": {},
     "output_type": "execute_result"
    }
   ],
   "source": [
    "cursor.execute('''SELECT COUNT(name) FROM fouryear WHERE median_hh_income = -999;''').fetchall()"
   ]
  },
  {
   "cell_type": "code",
   "execution_count": 241,
   "metadata": {},
   "outputs": [
    {
     "ename": "OperationalError",
     "evalue": "misuse of aggregate function count()",
     "output_type": "error",
     "traceback": [
      "\u001b[0;31m---------------------------------------------------------------------------\u001b[0m",
      "\u001b[0;31mOperationalError\u001b[0m                          Traceback (most recent call last)",
      "\u001b[0;32m<ipython-input-241-f703ad52b54d>\u001b[0m in \u001b[0;36m<module>\u001b[0;34m\u001b[0m\n\u001b[1;32m      1\u001b[0m cursor.execute('''SELECT * FROM fouryear WHERE count (-999) IN (size, part_time_share, cost, pell_grant_rate,\n\u001b[1;32m      2\u001b[0m             \u001b[0mfederal_loan_rate\u001b[0m\u001b[0;34m,\u001b[0m\u001b[0mshare_25_older\u001b[0m\u001b[0;34m,\u001b[0m\u001b[0mtwo_yr_default_rate\u001b[0m\u001b[0;34m,\u001b[0m\u001b[0;34m\u001b[0m\u001b[0;34m\u001b[0m\u001b[0m\n\u001b[0;32m----> 3\u001b[0;31m             three_yr_default_rate,median_hh_income) > 1;''')\n\u001b[0m",
      "\u001b[0;31mOperationalError\u001b[0m: misuse of aggregate function count()"
     ]
    }
   ],
   "source": [
    "cursor.execute('''SELECT * FROM fouryear WHERE count (-999) IN (size, part_time_share, cost, pell_grant_rate,\n",
    "            federal_loan_rate,share_25_older,two_yr_default_rate,\n",
    "            three_yr_default_rate,median_hh_income) > 1;''')"
   ]
  },
  {
   "cell_type": "code",
   "execution_count": 242,
   "metadata": {},
   "outputs": [],
   "source": [
    "connection.commit()"
   ]
  },
  {
   "cell_type": "code",
   "execution_count": null,
   "metadata": {},
   "outputs": [],
   "source": []
  }
 ],
 "metadata": {
  "kernelspec": {
   "display_name": "learn-env",
   "language": "python",
   "name": "learn-env"
  },
  "language_info": {
   "codemirror_mode": {
    "name": "ipython",
    "version": 3
   },
   "file_extension": ".py",
   "mimetype": "text/x-python",
   "name": "python",
   "nbconvert_exporter": "python",
   "pygments_lexer": "ipython3",
   "version": "3.7.1"
  }
 },
 "nbformat": 4,
 "nbformat_minor": 2
}
